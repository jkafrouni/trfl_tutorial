{
 "cells": [
  {
   "cell_type": "markdown",
   "metadata": {
    "colab_type": "text",
    "id": "Ln281QTUyydR"
   },
   "source": [
    "# Intro to TRFL and OpenAI Gym"
   ]
  },
  {
   "cell_type": "code",
   "execution_count": 4,
   "metadata": {
    "colab": {},
    "colab_type": "code",
    "id": "URliwJ2uyydW"
   },
   "outputs": [],
   "source": [
    "import numpy as np\n",
    "from matplotlib import pyplot as plt\n",
    "%matplotlib inline\n",
    "from pprint import pprint"
   ]
  },
  {
   "cell_type": "markdown",
   "metadata": {},
   "source": [
    "For google colab display:"
   ]
  },
  {
   "cell_type": "code",
   "execution_count": 2,
   "metadata": {
    "colab": {
     "base_uri": "https://localhost:8080/",
     "height": 54
    },
    "colab_type": "code",
    "id": "PQCF6SFxz3UN",
    "outputId": "5bf8849a-8d18-48ca-f561-3125dd1964b2"
   },
   "outputs": [
    {
     "data": {
      "text/plain": [
       "<Display cmd_param=['Xvfb', '-br', '-nolisten', 'tcp', '-screen', '0', '400x300x24', ':1007'] cmd=['Xvfb', '-br', '-nolisten', 'tcp', '-screen', '0', '400x300x24', ':1007'] oserror=None return_code=None stdout=\"None\" stderr=\"None\" timeout_happened=False>"
      ]
     },
     "execution_count": 2,
     "metadata": {
      "tags": []
     },
     "output_type": "execute_result"
    }
   ],
   "source": [
    "!apt-get install -y xvfb python-opengl > /dev/null 2>&1\n",
    "!pip install pyvirtualdisplay > /dev/null 2>&1\n",
    "from IPython import display as ipythondisplay\n",
    "from pyvirtualdisplay import Display\n",
    "display = Display(visible=0, size=(400, 300))\n",
    "display.start()"
   ]
  },
  {
   "cell_type": "markdown",
   "metadata": {
    "colab_type": "text",
    "id": "G2MXAs4ayydg"
   },
   "source": [
    "## Part 1: Intro to OpenAI Gym with Tabular Q-learning"
   ]
  },
  {
   "cell_type": "markdown",
   "metadata": {
    "colab_type": "text",
    "id": "FiB9za8Ayydj"
   },
   "source": [
    "### 1.1 What is Gym, and why?"
   ]
  },
  {
   "cell_type": "markdown",
   "metadata": {
    "colab_type": "text",
    "id": "0pkpstg-yydm"
   },
   "source": [
    "*\"Gym is a toolkit for developing and comparing reinforcement learning algorithms. It supports teaching agents everything from walking to playing games like Pong or Pinball.\"*"
   ]
  },
  {
   "cell_type": "markdown",
   "metadata": {
    "colab_type": "text",
    "id": "Kj3WMmKpyydq"
   },
   "source": [
    "Gym only contains **environments** that you can interact with; it does not contain any Reinforcement Learning algorithms (or other techniques to write agents)."
   ]
  },
  {
   "cell_type": "markdown",
   "metadata": {
    "colab_type": "text",
    "id": "1-34UDDPyyds"
   },
   "source": [
    "People use Gym because:\n",
    "- It's (very) **easy to set up**\n",
    "- It provides a variety of **diverse environments**, some are easy benchmarks, some are hard (atari games...)\n",
    "- It allows fair **comparisons**: researcher can benchmark their techniques on known environments used by everyone."
   ]
  },
  {
   "cell_type": "markdown",
   "metadata": {
    "colab_type": "text",
    "id": "Li_zQWbeyydv"
   },
   "source": [
    "### 1.2 Installing"
   ]
  },
  {
   "cell_type": "code",
   "execution_count": 3,
   "metadata": {
    "colab": {
     "base_uri": "https://localhost:8080/",
     "height": 224
    },
    "colab_type": "code",
    "id": "qoEL8x4yyydw",
    "outputId": "54c31365-af55-4eb4-c882-218627013b4d"
   },
   "outputs": [
    {
     "name": "stdout",
     "output_type": "stream",
     "text": [
      "Requirement already satisfied: gym in /usr/local/lib/python3.6/dist-packages (0.10.8)\n",
      "Requirement already satisfied: requests>=2.0 in /usr/local/lib/python3.6/dist-packages (from gym) (2.18.4)\n",
      "Requirement already satisfied: scipy in /usr/local/lib/python3.6/dist-packages (from gym) (0.19.1)\n",
      "Requirement already satisfied: six in /usr/local/lib/python3.6/dist-packages (from gym) (1.11.0)\n",
      "Requirement already satisfied: pyglet>=1.2.0 in /usr/local/lib/python3.6/dist-packages (from gym) (1.3.2)\n",
      "Requirement already satisfied: numpy>=1.10.4 in /usr/local/lib/python3.6/dist-packages (from gym) (1.14.6)\n",
      "Requirement already satisfied: certifi>=2017.4.17 in /usr/local/lib/python3.6/dist-packages (from requests>=2.0->gym) (2018.10.15)\n",
      "Requirement already satisfied: idna<2.7,>=2.5 in /usr/local/lib/python3.6/dist-packages (from requests>=2.0->gym) (2.6)\n",
      "Requirement already satisfied: urllib3<1.23,>=1.21.1 in /usr/local/lib/python3.6/dist-packages (from requests>=2.0->gym) (1.22)\n",
      "Requirement already satisfied: chardet<3.1.0,>=3.0.2 in /usr/local/lib/python3.6/dist-packages (from requests>=2.0->gym) (3.0.4)\n",
      "Requirement already satisfied: future in /usr/local/lib/python3.6/dist-packages (from pyglet>=1.2.0->gym) (0.16.0)\n"
     ]
    }
   ],
   "source": [
    "!pip install gym\n",
    "# !pip install gym[atari]"
   ]
  },
  {
   "cell_type": "code",
   "execution_count": 5,
   "metadata": {
    "colab": {},
    "colab_type": "code",
    "id": "_l83DODZyyd3"
   },
   "outputs": [],
   "source": [
    "import gym"
   ]
  },
  {
   "cell_type": "markdown",
   "metadata": {
    "colab_type": "text",
    "id": "nddpy_nbyyd_"
   },
   "source": [
    "### 1.3 Overview of the environments, FrozenLake"
   ]
  },
  {
   "cell_type": "markdown",
   "metadata": {
    "colab_type": "text",
    "id": "U96ArLCmyyeB"
   },
   "source": [
    "#### 1.3.1 Environments"
   ]
  },
  {
   "cell_type": "markdown",
   "metadata": {
    "colab_type": "text",
    "id": "RglsasuKyyeD"
   },
   "source": [
    "**Listing environments:**"
   ]
  },
  {
   "cell_type": "markdown",
   "metadata": {
    "colab_type": "text",
    "id": "2Pw5eaAXyyeG"
   },
   "source": [
    "Gym contains a lot of environments, all of which are listed in the env registry:"
   ]
  },
  {
   "cell_type": "code",
   "execution_count": 5,
   "metadata": {
    "colab": {
     "base_uri": "https://localhost:8080/",
     "height": 357
    },
    "colab_type": "code",
    "id": "QelKdW7KyyeH",
    "outputId": "60b17bfe-d72e-4a83-f49b-bdb2eaee4b24"
   },
   "outputs": [
    {
     "name": "stdout",
     "output_type": "stream",
     "text": [
      "[EnvSpec(Copy-v0),\n",
      " EnvSpec(RepeatCopy-v0),\n",
      " EnvSpec(ReversedAddition-v0),\n",
      " EnvSpec(ReversedAddition3-v0),\n",
      " EnvSpec(DuplicatedInput-v0),\n",
      " EnvSpec(Reverse-v0),\n",
      " EnvSpec(CartPole-v0),\n",
      " EnvSpec(CartPole-v1),\n",
      " EnvSpec(MountainCar-v0),\n",
      " EnvSpec(MountainCarContinuous-v0),\n",
      " EnvSpec(Pendulum-v0),\n",
      " EnvSpec(Acrobot-v1),\n",
      " EnvSpec(LunarLander-v2),\n",
      " EnvSpec(LunarLanderContinuous-v2),\n",
      " EnvSpec(BipedalWalker-v2),\n",
      " EnvSpec(BipedalWalkerHardcore-v2),\n",
      " EnvSpec(CarRacing-v0),\n",
      " EnvSpec(Blackjack-v0),\n",
      " EnvSpec(KellyCoinflip-v0),\n",
      " EnvSpec(KellyCoinflipGeneralized-v0)]\n"
     ]
    }
   ],
   "source": [
    "pprint(list(gym.envs.registry.all())[:20])"
   ]
  },
  {
   "cell_type": "code",
   "execution_count": 6,
   "metadata": {
    "colab": {
     "base_uri": "https://localhost:8080/",
     "height": 34
    },
    "colab_type": "code",
    "id": "WgzBHBHYyyeT",
    "outputId": "072c957c-2e96-4b8f-f99f-1e8333ae05ab"
   },
   "outputs": [
    {
     "data": {
      "text/plain": [
       "797"
      ]
     },
     "execution_count": 6,
     "metadata": {
      "tags": []
     },
     "output_type": "execute_result"
    }
   ],
   "source": [
    "len(list(gym.envs.registry.all()))"
   ]
  },
  {
   "cell_type": "markdown",
   "metadata": {
    "colab_type": "text",
    "id": "dBrVM23myyeb"
   },
   "source": [
    "Some environments are shown on gym's homepage: https://gym.openai.com/"
   ]
  },
  {
   "cell_type": "markdown",
   "metadata": {
    "colab_type": "text",
    "id": "B-nrmcxWyyec"
   },
   "source": [
    "**Loading an environment:**"
   ]
  },
  {
   "cell_type": "code",
   "execution_count": 9,
   "metadata": {
    "colab": {
     "base_uri": "https://localhost:8080/",
     "height": 51
    },
    "colab_type": "code",
    "id": "w00TMTaEyyef",
    "outputId": "7be1adc7-f053-4563-809a-2233cfad3f8e"
   },
   "outputs": [
    {
     "name": "stdout",
     "output_type": "stream",
     "text": [
      "\u001b[33mWARN: gym.spaces.Box autodetected dtype as <class 'numpy.float32'>. Please provide explicit dtype.\u001b[0m\n",
      "\u001b[33mWARN: gym.spaces.Box autodetected dtype as <class 'numpy.float32'>. Please provide explicit dtype.\u001b[0m\n"
     ]
    }
   ],
   "source": [
    "env = gym.make('MountainCarContinuous-v0')"
   ]
  },
  {
   "cell_type": "markdown",
   "metadata": {
    "colab_type": "text",
    "id": "v_4SoiTHyyel"
   },
   "source": [
    "**Rendering:**"
   ]
  },
  {
   "cell_type": "markdown",
   "metadata": {
    "colab_type": "text",
    "id": "Ur3M-omYyyen"
   },
   "source": [
    "On a local machine, the following code would open up a window with the game:"
   ]
  },
  {
   "cell_type": "code",
   "execution_count": null,
   "metadata": {
    "colab": {},
    "colab_type": "code",
    "id": "jnCkPa16yyer"
   },
   "outputs": [],
   "source": [
    "# env.render()\n",
    "# env.close()"
   ]
  },
  {
   "cell_type": "markdown",
   "metadata": {
    "colab_type": "text",
    "id": "d9MZAZlFyye1"
   },
   "source": [
    "Here's a trick to plot the current state of the game right in jupyter:"
   ]
  },
  {
   "cell_type": "code",
   "execution_count": 12,
   "metadata": {
    "colab": {
     "base_uri": "https://localhost:8080/",
     "height": 269
    },
    "colab_type": "code",
    "id": "Kd6Gi00D3JPF",
    "outputId": "8dc23a40-b7fd-4616-85e4-c53cff6e049b"
   },
   "outputs": [
    {
     "data": {
      "image/png": "[encoded data removed]",
      "text/plain": [
       "<matplotlib.figure.Figure at 0x7f82f0a6f588>"
      ]
     },
     "metadata": {
      "tags": []
     },
     "output_type": "display_data"
    }
   ],
   "source": [
    "screen = env.render(mode='rgb_array')\n",
    "plt.imshow(screen)\n",
    "ipythondisplay.clear_output(wait=True)"
   ]
  },
  {
   "cell_type": "markdown",
   "metadata": {
    "colab_type": "text",
    "id": "Dn7BYEddyyfE"
   },
   "source": [
    "**Action space and observation space**"
   ]
  },
  {
   "cell_type": "markdown",
   "metadata": {
    "colab_type": "text",
    "id": "TC3Dim9_yyfG"
   },
   "source": [
    "Besides the pixels of the game, Gym actually gives you access to two important objects: actions that you can take, and observations (state of the game). Both actions and observations can be either discrete or continuous, depending on the game."
   ]
  },
  {
   "cell_type": "code",
   "execution_count": null,
   "metadata": {
    "colab": {},
    "colab_type": "code",
    "id": "IAu1l8Z_yyfJ",
    "outputId": "15bdb5cd-69da-4795-f432-213116a53ba2"
   },
   "outputs": [
    {
     "data": {
      "text/plain": [
       "(Box(1,), Box(2,))"
      ]
     },
     "execution_count": 14,
     "metadata": {
      "tags": []
     },
     "output_type": "execute_result"
    }
   ],
   "source": [
    "env.action_space, env.observation_space"
   ]
  },
  {
   "cell_type": "markdown",
   "metadata": {
    "colab_type": "text",
    "id": "TnUaCXYmyyfX"
   },
   "source": [
    "Here, the action space is continuous: one number, ranging from +1 (go right) to -1 (go left).\n",
    "\n",
    "The observation space is also continuous: the position of the car (x) and its velocity (x')."
   ]
  },
  {
   "cell_type": "markdown",
   "metadata": {
    "colab_type": "text",
    "id": "HltKNdis3j57"
   },
   "source": [
    "**Interacting with the environment, getting rewards**"
   ]
  },
  {
   "cell_type": "markdown",
   "metadata": {
    "colab_type": "text",
    "id": "WxfGUoQ23nUs"
   },
   "source": [
    "Every Gym environment has a method step() that takes as argument the index of the action to take, and outputs the new state, the reward for taking this action, and tells us whether the game is done or not (here: if we reached the goal)."
   ]
  },
  {
   "cell_type": "code",
   "execution_count": null,
   "metadata": {
    "colab": {},
    "colab_type": "code",
    "id": "mlQ4CCqXyyfZ"
   },
   "outputs": [],
   "source": []
  },
  {
   "cell_type": "markdown",
   "metadata": {
    "colab_type": "text",
    "id": "S38AW8Fwyyfe"
   },
   "source": [
    "#### 1.3.2 FrozenLake"
   ]
  },
  {
   "cell_type": "code",
   "execution_count": 12,
   "metadata": {
    "colab": {},
    "colab_type": "code",
    "id": "rg3J--Mmyyfm",
    "outputId": "058e9530-e6b4-44cf-c297-2a2639e50809"
   },
   "outputs": [
    {
     "name": "stdout",
     "output_type": "stream",
     "text": [
      "states:  Discrete(16)\n",
      "actions:  Discrete(4)\n",
      "\n",
      "\u001b[41mS\u001b[0mFFF\n",
      "FHFH\n",
      "FFFH\n",
      "HFFG\n"
     ]
    }
   ],
   "source": [
    "# 1. Load Environment and Q-table structure\n",
    "env = gym.make('FrozenLake-v0')\n",
    "print('states: ', env.observation_space)\n",
    "print('actions: ', env.action_space)\n",
    "env.reset()\n",
    "env.render()"
   ]
  },
  {
   "cell_type": "markdown",
   "metadata": {
    "colab_type": "text",
    "id": "7XT0rCu8yyff"
   },
   "source": [
    "In this environment aim is to reach the goal G, on a frozen lake that might have some holes in it. Since the lake is frozen, **your actions are non deterministic**: you may try to go left and go down instead for example."
   ]
  },
  {
   "cell_type": "markdown",
   "metadata": {
    "colab_type": "text",
    "id": "sSHAcIiKyyfg"
   },
   "source": [
    "S: starting point (safe), F: frozen surface (safe), H: hole (fall to your doom), G: goal (where the frisbee is located)"
   ]
  },
  {
   "cell_type": "markdown",
   "metadata": {
    "colab_type": "text",
    "id": "e6jVT5Heyyfi"
   },
   "source": [
    "- The environment is a grid of shape 4x4. Each state is a position on this grid (so 16 states), some are just frozen, some are holes, and one is the goal.\n",
    "- You always start in position 0 and have to go to position 15 (but you don't know it).\n",
    "- At each timestep you can go up, down, left, right (4 actions).\n",
    "- You get a reward 0 for anything except getting to position 15 which gives you reward 1.\n",
    "- The epsiode **ends** if you fall in a Hole"
   ]
  },
  {
   "cell_type": "markdown",
   "metadata": {
    "colab_type": "text",
    "id": "nm0I3ggLyyf7"
   },
   "source": [
    "Actions:\n",
    "- 0 = Left\n",
    "- 1 = Down\n",
    "- 2 = Right\n",
    "- 3 = Up"
   ]
  },
  {
   "cell_type": "markdown",
   "metadata": {
    "colab_type": "text",
    "id": "yqsNlGl-yyf9"
   },
   "source": [
    "Try to go down. With a certain probability you actually go down, but sometimes you don't:"
   ]
  },
  {
   "cell_type": "code",
   "execution_count": null,
   "metadata": {
    "colab": {},
    "colab_type": "code",
    "id": "pdE5P2Ajyyf_",
    "outputId": "c83233ef-27e2-48a4-eadc-9ae27e8d2811"
   },
   "outputs": [
    {
     "name": "stdout",
     "output_type": "stream",
     "text": [
      "  (Down)\n",
      "SFFF\n",
      "\u001b[41mF\u001b[0mHFH\n",
      "FFFH\n",
      "HFFG\n"
     ]
    }
   ],
   "source": [
    "env.step(1)\n",
    "env.render()"
   ]
  },
  {
   "cell_type": "markdown",
   "metadata": {
    "colab_type": "text",
    "id": "6zD7TLAfyygM"
   },
   "source": [
    "### 1.4 Solving FrozenLake by hand"
   ]
  },
  {
   "cell_type": "markdown",
   "metadata": {
    "colab": {},
    "colab_type": "code",
    "id": "vN6tN_6VyygO"
   },
   "source": [
    "Since we know the grid, we could cheat and implement a very simple algorithm that tries to reach G. We'd still not get to G all the time, because of the uncertainty of our movements.\n",
    "\n",
    "Yet, remmeber that our agent only knows his current position, but doesn't know which position is frozen and which is a hole."
   ]
  },
  {
   "cell_type": "markdown",
   "metadata": {
    "colab_type": "text",
    "id": "N1IgB-UZyygX"
   },
   "source": [
    "### 1.5 Solving FrozenLake with tabular Q-learning"
   ]
  },
  {
   "cell_type": "markdown",
   "metadata": {
    "colab_type": "text",
    "id": "6FYJ7BYlyygc"
   },
   "source": [
    "In tabular Q-learning, we learn the matrix Q(s,a) while interacting with the environment and use it to determine our policy.\n",
    "\n",
    "- Initialize matrix Q\n",
    "- At each timestep:\n",
    "    - Get current state s\n",
    "    - Use current matrix Q to get Q(s,a) for each a\n",
    "    - Choose the a with highest Q(s,a) (or take random a with prob. epsilon)\n",
    "    - Get new state s' and reward r from environment\n",
    "    - Use reward r to update matrix Q"
   ]
  },
  {
   "cell_type": "markdown",
   "metadata": {
    "colab_type": "text",
    "id": "ye28HV79yygh"
   },
   "source": [
    "**TODO** clean up this code, train for longer"
   ]
  },
  {
   "cell_type": "code",
   "execution_count": 31,
   "metadata": {},
   "outputs": [],
   "source": [
    "# Set learning parameters\n",
    "eta = .628\n",
    "gamma = .9\n",
    "eps = 0.1\n",
    "num_episodes = 2000"
   ]
  },
  {
   "cell_type": "code",
   "execution_count": 32,
   "metadata": {
    "colab": {},
    "colab_type": "code",
    "id": "-ulxCzI1yygs",
    "outputId": "f48daf5a-7b0e-4892-fb4e-08d591e93ed2"
   },
   "outputs": [
    {
     "name": "stdout",
     "output_type": "stream",
     "text": [
      "Reward Sum on all episodes: 51.80 %\n",
      "Final Values Q-Table\n",
      "[[6.79472670e-02 3.71884445e-03 3.24518641e-03 3.62626876e-03]\n",
      " [7.68147033e-04 1.66554703e-04 1.50711163e-03 1.35305916e-01]\n",
      " [1.37935910e-03 2.26995440e-03 1.08270518e-03 2.32836996e-02]\n",
      " [8.73282125e-04 1.10315675e-03 3.89838832e-04 1.33949310e-02]\n",
      " [1.04616168e-01 1.56567766e-03 3.55089270e-03 0.00000000e+00]\n",
      " [0.00000000e+00 0.00000000e+00 0.00000000e+00 0.00000000e+00]\n",
      " [1.75172337e-04 1.98896690e-04 2.21516456e-02 4.39893845e-08]\n",
      " [0.00000000e+00 0.00000000e+00 0.00000000e+00 0.00000000e+00]\n",
      " [2.23780740e-03 6.69005442e-03 0.00000000e+00 1.67114194e-01]\n",
      " [0.00000000e+00 2.78720955e-01 7.70302172e-03 2.92921060e-03]\n",
      " [5.59274347e-01 0.00000000e+00 1.61159105e-03 0.00000000e+00]\n",
      " [0.00000000e+00 0.00000000e+00 0.00000000e+00 0.00000000e+00]\n",
      " [0.00000000e+00 0.00000000e+00 0.00000000e+00 0.00000000e+00]\n",
      " [0.00000000e+00 0.00000000e+00 6.10273890e-01 3.12902538e-03]\n",
      " [0.00000000e+00 0.00000000e+00 9.20939304e-01 0.00000000e+00]\n",
      " [0.00000000e+00 0.00000000e+00 0.00000000e+00 0.00000000e+00]]\n"
     ]
    }
   ],
   "source": [
    "# 3. Q-learning Algorithm\n",
    "Q = np.zeros([env.observation_space.n, env.action_space.n])\n",
    "all_rewards = [] # total rewards per episode\n",
    "\n",
    "for i in range(num_episodes):\n",
    "    # Reset environment\n",
    "    s = env.reset()\n",
    "    episode_reward = 0\n",
    "    d = False\n",
    "    j = 0\n",
    "    # The Q-Table learning algorithm\n",
    "    for j in range(100):\n",
    "        # Choose action from Q table (with eps-greedy exploration)\n",
    "        a = np.argmax(Q[s,:] + np.random.randn(1,env.action_space.n)*(1./(i+1)))\n",
    "        # Get new state & reward from environment\n",
    "        s1, r, done, _ = env.step(a)\n",
    "        # Update Q-Table with new knowledge\n",
    "        Q[s,a] = Q[s,a] + eta*(r + gamma*np.max(Q[s1,:]) - Q[s,a])\n",
    "        episode_reward += r\n",
    "        s = s1\n",
    "        if done:\n",
    "            break\n",
    "    all_rewards.append(episode_reward)\n",
    "    # env.render()\n",
    "print(\"Reward Sum on all episodes: %.2f %%\" % (100*np.mean(all_rewards),))\n",
    "print(\"Final Values Q-Table\")\n",
    "print(Q)"
   ]
  },
  {
   "cell_type": "code",
   "execution_count": 33,
   "metadata": {
    "colab": {},
    "colab_type": "code",
    "id": "-uJ3gpTjyyhY",
    "outputId": "92954c4b-e248-480b-eed6-e44ed611de5e"
   },
   "outputs": [
    {
     "data": {
      "image/png": "[encoded data removed]",
      "text/plain": [
       "<matplotlib.figure.Figure at 0x1126876a0>"
      ]
     },
     "metadata": {},
     "output_type": "display_data"
    }
   ],
   "source": [
    "plt.imshow(Q, cmap='RdYlGn', aspect='auto')\n",
    "plt.show()"
   ]
  },
  {
   "cell_type": "markdown",
   "metadata": {
    "colab_type": "text",
    "id": "odhYikq8yyhm"
   },
   "source": [
    "**TODO** use the learned Q to do a few trials while printing the environment"
   ]
  },
  {
   "cell_type": "markdown",
   "metadata": {
    "colab_type": "text",
    "id": "DeH0gHuvyyho"
   },
   "source": [
    "## Part 2: Intro to TRFL with Approximate Q-Learning"
   ]
  },
  {
   "cell_type": "markdown",
   "metadata": {
    "colab_type": "text",
    "id": "fRVKbPGcyyhp"
   },
   "source": [
    "### 2.1 What is TRFL and why?"
   ]
  },
  {
   "cell_type": "markdown",
   "metadata": {
    "colab_type": "text",
    "id": "1PvFO7XUyyhs"
   },
   "source": [
    "*TRFL implements a large group of DRL building blocks including state-value learning, distributional-value learning, continuous-action policy gradient, deterministic policy gradient and many others.*"
   ]
  },
  {
   "cell_type": "markdown",
   "metadata": {
    "colab_type": "text",
    "id": "AvgoTOVjyyhv"
   },
   "source": [
    "**TODO** complete using Blog post"
   ]
  },
  {
   "cell_type": "markdown",
   "metadata": {
    "colab_type": "text",
    "id": "q9IqbtLPyyhz"
   },
   "source": [
    "### Value learning\n",
    "\n",
    "- State Value learning:\n",
    "**td_learning**\n",
    "generalized_lambda_returns\n",
    "td_lambda\n",
    "\n",
    "- Discrete-action Value learning:\n",
    "**qlearning**\n",
    "double_qlearning\n",
    "persistent_qlearning\n",
    "sarsa\n",
    "sarse\n",
    "qlambda\n",
    "\n",
    "- Distributional Value learning:\n",
    "categorical_dist_qlearning\n",
    "categorical_dist_double_qlearning\n",
    "categorical_dist_td_learning\n",
    "\n",
    "### Policy gradient\n",
    "- Continuous-action Policy Gradient:\n",
    "**policy_gradient**\n",
    "policy_gradient_loss\n",
    "policy_entropy_loss\n",
    "sequence_a2c_loss\n",
    "\n",
    "- Deterministic Policy Gradient:\n",
    "dpg\n",
    "\n",
    "- Discrete-action Policy Gradient:\n",
    "**discrete_policy_entropy_loss**\n",
    "sequence_advantage_actor_critic_loss: this is the commonly-used A2C/A3C loss function.\n",
    "discrete_policy_gradient\n",
    "discrete_policy_gradient_loss\n",
    "\n",
    "### ... and a few other things"
   ]
  },
  {
   "cell_type": "code",
   "execution_count": null,
   "metadata": {
    "colab": {},
    "colab_type": "code",
    "id": "oYlFlexRyyh1"
   },
   "outputs": [],
   "source": [
    "# TODO"
   ]
  },
  {
   "cell_type": "markdown",
   "metadata": {
    "colab_type": "text",
    "id": "NQAN_f4yyyh7"
   },
   "source": [
    "### 2.2 Installing"
   ]
  },
  {
   "cell_type": "markdown",
   "metadata": {
    "colab_type": "text",
    "id": "d8c6_Y2vyyh-"
   },
   "source": [
    "```pip install git+git://github.com/deepmind/trfl.git```"
   ]
  },
  {
   "cell_type": "markdown",
   "metadata": {
    "colab_type": "text",
    "id": "pY3vTtDnyyiE"
   },
   "source": [
    "And the requirements:"
   ]
  },
  {
   "cell_type": "markdown",
   "metadata": {
    "colab_type": "text",
    "id": "7pDyhz8nyyiI"
   },
   "source": [
    "```pip install tensorflow tensorflow-probability```"
   ]
  },
  {
   "cell_type": "markdown",
   "metadata": {
    "colab_type": "text",
    "id": "JMAgSTfryyiK"
   },
   "source": [
    "Note that you might still have some dependencies missing, for example `wrapt` was missing for me."
   ]
  },
  {
   "cell_type": "code",
   "execution_count": null,
   "metadata": {
    "colab": {},
    "colab_type": "code",
    "id": "IeaRnXR9yyiM",
    "outputId": "01e7958f-8d50-461c-9ab1-46c36c5d72bd"
   },
   "outputs": [
    {
     "name": "stderr",
     "output_type": "stream",
     "text": [
      "/Users/jeromekafrouni/.pyenv/versions/3.6.1/Python.framework/Versions/3.6/lib/python3.6/importlib/_bootstrap.py:205: RuntimeWarning: compiletime version 3.5 of module 'tensorflow.python.framework.fast_tensor_util' does not match runtime version 3.6\n",
      "  return f(*args, **kwds)\n",
      "/Users/jeromekafrouni/.pyenv/versions/3.6.1/lib/python3.6/site-packages/h5py/__init__.py:36: FutureWarning: Conversion of the second argument of issubdtype from `float` to `np.floating` is deprecated. In future, it will be treated as `np.float64 == np.dtype(float).type`.\n",
      "  from ._conv import register_converters as _register_converters\n",
      "/Users/jeromekafrouni/.pyenv/versions/3.6.1/Python.framework/Versions/3.6/lib/python3.6/site-packages/tensorflow/python/util/tf_inspect.py:75: DeprecationWarning: inspect.getargspec() is deprecated, use inspect.signature() or inspect.getfullargspec()\n",
      "  return _inspect.getargspec(target)\n"
     ]
    }
   ],
   "source": [
    "import tensorflow as tf\n",
    "import trfl"
   ]
  },
  {
   "cell_type": "markdown",
   "metadata": {
    "colab_type": "text",
    "id": "pPAycvTeyyiW"
   },
   "source": [
    "### 2.3 Back to FrozenLake, with Approximate Q-Learning (and DQN)"
   ]
  },
  {
   "cell_type": "markdown",
   "metadata": {
    "colab_type": "text",
    "id": "RAIWRof1yyiZ"
   },
   "source": [
    "We still want to solve the same problem, so the states and actions are the same.\n",
    "\n",
    "Our goal also remains the same: learning the action value function Q(s,a) while interacting with the environment. Instead of learning the whole Q matrix (of shape (num_states,num_actions)), we want to learn an **approximate function (represented by a neural network) that takes as input (s,a) and outputs an approximation of the solution to the Bellman equation**.\n",
    "\n",
    "As before, we will still choose an action a by taking the argmax of Q(s,a) for a given s."
   ]
  },
  {
   "cell_type": "markdown",
   "metadata": {
    "colab_type": "text",
    "id": "FySnzMtvyyib"
   },
   "source": [
    "Since the code gets a bit more complex, we introduce a class Agent for cleaner and more reusable code. Note that the way we interact with the environment stays very similar, only the training changes."
   ]
  },
  {
   "cell_type": "code",
   "execution_count": null,
   "metadata": {
    "colab": {},
    "colab_type": "code",
    "id": "5fKpw6-Myyie"
   },
   "outputs": [],
   "source": [
    "def one_hot(n_classes, i):\n",
    "    return np.eye(n_classes)[i].reshape(1,-1)"
   ]
  },
  {
   "cell_type": "code",
   "execution_count": null,
   "metadata": {
    "colab": {},
    "colab_type": "code",
    "id": "FjVQJxnKyyim"
   },
   "outputs": [],
   "source": [
    "# Set learning parameters\n",
    "gamma = .99\n",
    "eps = 0.1\n",
    "num_episodes = 2000"
   ]
  },
  {
   "cell_type": "code",
   "execution_count": null,
   "metadata": {
    "colab": {},
    "colab_type": "code",
    "id": "eWfiS9L2yyi3"
   },
   "outputs": [],
   "source": [
    "class Agent:\n",
    "    # TODO implement batches\n",
    "    def __init__(self, env, discount, eps, lr):\n",
    "        self.env = env\n",
    "        self.eps = eps # epsilon-greedy\n",
    "        self.sess = tf.Session()\n",
    "        self.n_states = env.observation_space.n\n",
    "        self.n_actions = env.action_space.n\n",
    "        self.make_model(discount, lr)\n",
    "        \n",
    "    def make_model(self, discount, lr):\n",
    "        self.state = tf.placeholder(shape=[1, self.n_states], dtype=tf.float32, name='state') # one hot encoding\n",
    "        # W = tf.Variable(tf.random_uniform([self.n_states, self.n_actions], 0, 0.01))\n",
    "        # self.Q = tf.matmul(self.state, W)\n",
    "        dense = tf.layers.dense(self.state, 64, activation='relu')\n",
    "        self.Q = tf.layers.dense(dense, self.n_actions, activation='linear')\n",
    "        \n",
    "        self.action = tf.placeholder(dtype=tf.int32, name='action')\n",
    "        self.reward = tf.placeholder(dtype=tf.float32, name='reward')\n",
    "        self.discount = tf.constant([discount])\n",
    "\n",
    "        self.Q_target = tf.placeholder(dtype=tf.float32)\n",
    "        loss, q_learning = trfl.qlearning(self.Q, self.action, self.reward, self.discount, self.Q_target)\n",
    "        reduced_loss = tf.reduce_mean(loss)\n",
    "        optimizer = tf.train.GradientDescentOptimizer(learning_rate=lr)\n",
    "        self.train_op = optimizer.minimize(reduced_loss)\n",
    "    \n",
    "    def predict(self, s):\n",
    "        # TODO maybe launch session here instead of in train()\n",
    "        return self.sess.run(self.Q, feed_dict={self.state: one_hot(self.n_states, s)})\n",
    "    \n",
    "    def act(self, s):\n",
    "        Q = self.predict(s)\n",
    "        if np.random.rand(1) < self.eps:\n",
    "            a = [env.action_space.sample()]\n",
    "        else:\n",
    "            a = np.argmax(Q, 1)\n",
    "        return a\n",
    "\n",
    "    def train(self, num_episodes):\n",
    "        episode_rewards = []\n",
    "        with self.sess:\n",
    "            self.sess.run(tf.global_variables_initializer())\n",
    "            for i in range(num_episodes):\n",
    "                episode_reward = 0\n",
    "                # Reset environment and get first new observation\n",
    "                s = self.env.reset()\n",
    "                # The Q-Network\n",
    "                for j in range(100):\n",
    "                    a = self.act(s)\n",
    "                    s1, r, done, _ = self.env.step(a[0])\n",
    "                    episode_reward += r\n",
    "                    if done and r != 1: # done early with no rewards means falling in a hole\n",
    "                        r = -1\n",
    "                    Q_target = self.predict(s1)\n",
    "                    self.sess.run(self.train_op,\n",
    "                                  {self.state: one_hot(self.n_states, s),\n",
    "                                   self.Q_target: Q_target,\n",
    "                                   self.action: a,\n",
    "                                   self.reward: r})\n",
    "                    s = s1\n",
    "                    if done:\n",
    "                        # TODO take care of update of eps if we call train multiple times?\n",
    "                        # TODO discount eps differently\n",
    "                        # Reduce chance of random action as we train the model.\n",
    "                        # self.eps = 1./((i/50) + 10)\n",
    "                        break\n",
    "                episode_rewards.append(episode_reward)\n",
    "                if i % 1000 == 0:\n",
    "                    print('Episode %s done, average episode reward: %.2f %%' % (i, 100*np.mean(episode_rewards[-1000:]),))\n",
    "        print(\"Percent of succesful episodes: %.2f %%\" % (100*np.mean(episode_rewards),))\n",
    "        return episode_rewards"
   ]
  },
  {
   "cell_type": "markdown",
   "metadata": {
    "colab_type": "text",
    "id": "rcFBNTlVyyjN"
   },
   "source": [
    "**TODO train longer**"
   ]
  },
  {
   "cell_type": "code",
   "execution_count": null,
   "metadata": {
    "colab": {},
    "colab_type": "code",
    "id": "P8odGm4wyyjY",
    "outputId": "640e0a86-06a6-491f-dc2b-698e0a80c1cc"
   },
   "outputs": [
    {
     "name": "stdout",
     "output_type": "stream",
     "text": [
      "WARNING:tensorflow:indexing function cannot get shapes for tensors \"values\" and \"indices\" at construction time, and so can't check that their shapes are valid or compatible. Incorrect indexing may occur at runtime without error!\n",
      "Episode 0 done, average episode reward: 0.00 %\n",
      "Episode 1000 done, average episode reward: 23.30 %\n",
      "Percent of succesful episodes: 28.90 %\n"
     ]
    }
   ],
   "source": [
    "agent = Agent(env, discount=0.99, eps=0.1, lr=0.1)\n",
    "rewards = agent.train(2000)"
   ]
  },
  {
   "cell_type": "markdown",
   "metadata": {
    "colab_type": "text",
    "id": "bb8ONQSVyyjf"
   },
   "source": [
    "#### Switching from regular Q-learning to Sarsa:"
   ]
  },
  {
   "cell_type": "markdown",
   "metadata": {
    "colab_type": "text",
    "id": "dljFrZ5hyyjf"
   },
   "source": [
    "Thanks to trfl, we can change our learning algorithm by only changing a few lines in the code. For example, we can use Sarsa:"
   ]
  },
  {
   "cell_type": "code",
   "execution_count": null,
   "metadata": {
    "colab": {},
    "colab_type": "code",
    "id": "mrU3pzQFyyjh"
   },
   "outputs": [],
   "source": [
    "class SarsaAgent:\n",
    "    # TODO implement batches\n",
    "    def __init__(self, env, discount, eps, lr):\n",
    "        self.env = env\n",
    "        self.eps = eps # epsilon-greedy\n",
    "        self.sess = tf.Session()\n",
    "        self.n_states = env.observation_space.n\n",
    "        self.n_actions = env.action_space.n\n",
    "        self.make_model(discount, lr)\n",
    "        \n",
    "    def make_model(self, discount, lr):\n",
    "        self.state = tf.placeholder(shape=[1, self.n_states], dtype=tf.float32, name='state') # one hot encoding\n",
    "        # W = tf.Variable(tf.random_uniform([self.n_states, self.n_actions], 0, 0.01))\n",
    "        # self.Q = tf.matmul(self.state, W)\n",
    "        dense = tf.layers.dense(self.state, 64, activation='relu')\n",
    "        self.Q = tf.layers.dense(dense, self.n_actions, activation='linear')\n",
    "        \n",
    "        self.action = tf.placeholder(dtype=tf.int32, name='action')\n",
    "        self.reward = tf.placeholder(dtype=tf.float32, name='reward')\n",
    "        self.discount = tf.constant([discount])\n",
    "\n",
    "        self.Q_target = tf.placeholder(dtype=tf.float32)\n",
    "        self.action_target = tf.placeholder(dtype=tf.int32)\n",
    "        loss, q_learning = trfl.sarsa(\n",
    "            self.Q, self.action, self.reward, self.discount, self.Q_target, self.action_target)\n",
    "        reduced_loss = tf.reduce_mean(loss)\n",
    "        optimizer = tf.train.GradientDescentOptimizer(learning_rate=lr)\n",
    "        # this will update only W (because of how qlearning is implemented):\n",
    "        self.train_op = optimizer.minimize(reduced_loss)\n",
    "    \n",
    "    def predict(self, s):\n",
    "        # TODO maybe launch session here instead of in train()\n",
    "        return self.sess.run(self.Q, feed_dict={self.state: one_hot(self.n_states, s)})\n",
    "    \n",
    "    def act(self, s):\n",
    "        Q = self.predict(s)\n",
    "        if np.random.rand(1) < self.eps:\n",
    "            a = [env.action_space.sample()]\n",
    "        else:\n",
    "            a = np.argmax(Q, 1)\n",
    "        return a\n",
    "\n",
    "    def train(self, num_episodes):\n",
    "        episode_rewards = []\n",
    "        with self.sess:\n",
    "            self.sess.run(tf.global_variables_initializer())\n",
    "            for i in range(num_episodes):\n",
    "                episode_reward = 0\n",
    "                # Reset environment and get first new observation\n",
    "                s = self.env.reset()\n",
    "                # The Q-Network\n",
    "                for j in range(100):\n",
    "                    a = self.act(s)\n",
    "                    s1, r, done, _ = self.env.step(a[0])\n",
    "                    episode_reward += r\n",
    "                    if done and r != 1: # done early with no rewards means falling in a hole\n",
    "                        r = -1\n",
    "                    Q_target = self.predict(s1)\n",
    "                    action_target = self.act(s1)\n",
    "                    self.sess.run(self.train_op,\n",
    "                                  {self.state: one_hot(self.n_states, s),\n",
    "                                   self.Q_target: Q_target,\n",
    "                                   self.action: a,\n",
    "                                   self.action_target: action_target,\n",
    "                                   self.reward: r})\n",
    "                    s = s1\n",
    "                    if done:\n",
    "                        # TODO take care of update of eps if we call train multiple times?\n",
    "                        # TODO discount eps differently\n",
    "                        # Reduce chance of random action as we train the model.\n",
    "                        # self.eps = 1./((i/50) + 10)\n",
    "                        break\n",
    "                episode_rewards.append(episode_reward)\n",
    "                if i % 1000 == 0:\n",
    "                    print('Episode %s done, average episode reward: %.2f %%' % (i, 100*np.mean(episode_rewards[-1000:]),))\n",
    "        print(\"Percent of succesful episodes: %.2f %%\" % (100*np.mean(episode_rewards),))\n",
    "        return episode_rewards"
   ]
  },
  {
   "cell_type": "code",
   "execution_count": null,
   "metadata": {
    "colab": {},
    "colab_type": "code",
    "id": "u9MMBr1uyyjs",
    "outputId": "55d3a9c3-6e62-45c3-b15d-f7233a9a3ff0"
   },
   "outputs": [
    {
     "name": "stdout",
     "output_type": "stream",
     "text": [
      "WARNING:tensorflow:indexing function cannot get shapes for tensors \"values\" and \"indices\" at construction time, and so can't check that their shapes are valid or compatible. Incorrect indexing may occur at runtime without error!\n",
      "WARNING:tensorflow:indexing function cannot get shapes for tensors \"values\" and \"indices\" at construction time, and so can't check that their shapes are valid or compatible. Incorrect indexing may occur at runtime without error!\n",
      "Episode 0 done, average episode reward: 0.00 %\n",
      "Episode 1000 done, average episode reward: 6.20 %\n",
      "Percent of succesful episodes: 17.10 %\n"
     ]
    }
   ],
   "source": [
    "sarsa_agent = SarsaAgent(env, discount=0.99, eps=0.1, lr=0.1)\n",
    "rewards = sarsa_agent.train(2000)"
   ]
  },
  {
   "cell_type": "markdown",
   "metadata": {
    "colab_type": "text",
    "id": "BbpP3O3nyyj3"
   },
   "source": [
    "### Part 3: Going further, solving harder games"
   ]
  },
  {
   "cell_type": "markdown",
   "metadata": {
    "colab_type": "text",
    "id": "bN21BS_Jyyj6"
   },
   "source": [
    "Above, we used approximate Q-learning on a game that didn't require it (because we could actually store and learn the full Q matrix). Now that we learned how to do that, we want to use Deep RL for when we actually need it: when the state and/or space action is too large to do tabular Q-learning"
   ]
  },
  {
   "cell_type": "markdown",
   "metadata": {
    "colab_type": "text",
    "id": "a9vZC2N6yyj9"
   },
   "source": [
    "Let's choose a game a bit harder than FrozenLake but on which we can still easily train. What we'll do can extend easily to harder games, such as Atari games."
   ]
  },
  {
   "cell_type": "markdown",
   "metadata": {
    "colab_type": "text",
    "id": "N0og015Hyyj-"
   },
   "source": [
    "**TODO** complete"
   ]
  },
  {
   "cell_type": "code",
   "execution_count": null,
   "metadata": {
    "colab": {},
    "colab_type": "code",
    "id": "O5WsR1YSyykB",
    "outputId": "37641476-94d9-42b4-8b24-6fa5bd47c8fb"
   },
   "outputs": [
    {
     "name": "stderr",
     "output_type": "stream",
     "text": [
      "/Users/jeromekafrouni/.pyenv/versions/3.6.1/Python.framework/Versions/3.6/lib/python3.6/site-packages/gym/envs/registration.py:14: DeprecationWarning: Parameters to load are deprecated.  Call .resolve and .require separately.\n",
      "  result = entry_point.load(False)\n"
     ]
    },
    {
     "data": {
      "text/plain": [
       "(Discrete(2), Box(4,))"
      ]
     },
     "execution_count": 3,
     "metadata": {
      "tags": []
     },
     "output_type": "execute_result"
    }
   ],
   "source": [
    "env = gym.make('CartPole-v0')\n",
    "env.action_space, env.observation_space"
   ]
  },
  {
   "cell_type": "markdown",
   "metadata": {
    "colab_type": "text",
    "id": "lYrn8Ee4yykG"
   },
   "source": [
    "**TODO** print inline"
   ]
  },
  {
   "cell_type": "markdown",
   "metadata": {
    "colab_type": "text",
    "id": "BLFzWiFOyykM"
   },
   "source": [
    "A pole is attached by an un-actuated joint to a cart, which moves along a frictionless track. The system is controlled by applying a force of +1 or -1 to the cart. The pendulum starts upright, and the goal is to prevent it from falling over. A reward of +1 is provided for every timestep that the pole remains upright. The episode ends when the pole is more than 15 degrees from vertical, or the cart moves more than 2.4 units from the center."
   ]
  },
  {
   "cell_type": "markdown",
   "metadata": {
    "colab_type": "text",
    "id": "TxqYX2cgyykO"
   },
   "source": [
    "There are only two actions: pushing left or right (+1 or -1), but the state space is now continuous, described by 4 variables: x, x', theta, theta'."
   ]
  },
  {
   "cell_type": "markdown",
   "metadata": {
    "colab_type": "text",
    "id": "XZ611o3dyykO"
   },
   "source": [
    "We would easily adapt our previous agent's architecture for this task: the only thing to change is how the states are encoded (used to be one-hot encoded)."
   ]
  },
  {
   "cell_type": "code",
   "execution_count": null,
   "metadata": {
    "colab": {},
    "colab_type": "code",
    "id": "m2JJDgV8yykU"
   },
   "outputs": [],
   "source": [
    "# TODO maybe?"
   ]
  },
  {
   "cell_type": "markdown",
   "metadata": {
    "colab_type": "text",
    "id": "tOrLQyMAyykd"
   },
   "source": [
    "Let's use policy-gradient methods instead to learn how to use them in TRFL:"
   ]
  },
  {
   "cell_type": "markdown",
   "metadata": {
    "colab_type": "text",
    "id": "BTUOG7ncyykf"
   },
   "source": [
    "Now we need to use the current policy over one episode, collect all the rewards, the over that replay compute the values of each step (now that we know the horizon). And then pass it to trfl."
   ]
  },
  {
   "cell_type": "code",
   "execution_count": null,
   "metadata": {
    "colab": {},
    "colab_type": "code",
    "id": "1I0_nGatyykg"
   },
   "outputs": [],
   "source": [
    "class PolicyGradientAgent:\n",
    "    # TODO implement batches\n",
    "    def __init__(self, env, discount, eps, lr):\n",
    "        self.env = env\n",
    "        self.eps = eps # epsilon-greedy\n",
    "        self.sess = tf.Session()\n",
    "        self.dim_state = env.observation_space.shape[0]\n",
    "        self.n_actions = env.action_space.n\n",
    "        self.discount = discount\n",
    "        self.make_model(lr)\n",
    "        \n",
    "    def make_model(self, lr):\n",
    "        self.state = tf.placeholder(shape=[1, self.dim_state], dtype=tf.float32, name='state')\n",
    "        dense = tf.layers.dense(self.state, 50, activation='relu')\n",
    "        # dense = tf.layers.dense(dense, 12, activation='relu')\n",
    "        self.policy = tf.layers.dense(dense, self.n_actions, activation='softmax')\n",
    "        \n",
    "        # self.replay_states = tf.placeholder(dtype=tf.float32, name='replay_states')\n",
    "        self.replay_action = tf.placeholder(dtype=tf.int32, name='replay_action')\n",
    "        self.replay_value = tf.placeholder(dtype=tf.float32, name='replay_value')\n",
    "        \n",
    "        loss = trfl.discrete_policy_gradient(self.policy, # TODO try to do the whole batch at once\n",
    "                                             self.replay_action,\n",
    "                                             self.replay_value)\n",
    "        reduced_loss = tf.reduce_mean(loss)\n",
    "        optimizer = tf.train.AdamOptimizer(learning_rate=lr)\n",
    "        self.train_op = optimizer.minimize(reduced_loss)\n",
    "    \n",
    "    def predict(self, s):\n",
    "        # TODO maybe launch session here instead of in train()\n",
    "        return self.sess.run(self.policy, feed_dict={self.state: s.reshape(1,-1)})\n",
    "    \n",
    "    def act(self, s):\n",
    "        p = self.predict(s)\n",
    "        p = p/p.sum() # trick to normalize p for very small precision issues\n",
    "        if np.random.rand(1) < self.eps:\n",
    "            a = [env.action_space.sample()]\n",
    "        else:\n",
    "            # a = np.argmax(p, 1)\n",
    "            a = [np.random.choice(range(p.shape[1]), p=p.ravel())]\n",
    "        return a\n",
    "    \n",
    "    def compute_values(self, rewards):\n",
    "        \"\"\"\n",
    "        Given all the rewards received during one episode, compute the value\n",
    "        of each action.\n",
    "        \"\"\"\n",
    "        values = [0] * len(rewards)\n",
    "        rewards.reverse()\n",
    "        for i, r in enumerate(rewards):\n",
    "            values[i] = r + self.discount * values[i-1]\n",
    "        values.reverse()\n",
    "        return values\n",
    "\n",
    "    def train(self, num_episodes):\n",
    "        episode_rewards = []\n",
    "        with self.sess:\n",
    "            self.sess.run(tf.global_variables_initializer())\n",
    "            for i in range(num_episodes):\n",
    "                states, actions, rewards = [], [], []\n",
    "                # Reset environment and get first new observation\n",
    "                s = self.env.reset()\n",
    "                # The Q-Network\n",
    "                done = False\n",
    "                while not done:\n",
    "                    # we don't train at each timestep anymore,\n",
    "                    # we use the same policy throughout one episode\n",
    "                    # and then use the 'replay' to learn\n",
    "                    a = self.act(s)\n",
    "                    s1, r, done, _ = self.env.step(a[0])\n",
    "                    # store replay:\n",
    "                    states.append(s)\n",
    "                    actions.append(a)\n",
    "                    rewards.append(r)\n",
    "                    \n",
    "                    s = s1\n",
    "                # now use the replay of that episode to train:\n",
    "                values = self.compute_values(rewards)\n",
    "                for s, a, v in zip(states, actions, values):\n",
    "                    # TODO try to do the whole batch at once\n",
    "                    self.sess.run(self.train_op,\n",
    "                                  {self.state: s.reshape(1,-1),\n",
    "                                   self.replay_action: a,\n",
    "                                   self.replay_value: np.array([v])})\n",
    "                episode_rewards.append(sum(rewards))\n",
    "                if i % 100 == 0:\n",
    "                    print(\"Episode %s, Average reward per episode: %.2f\" % (i, np.mean(episode_rewards[-100:]),))\n",
    "                    print(self.predict(s))\n",
    "        return episode_rewards"
   ]
  },
  {
   "cell_type": "code",
   "execution_count": null,
   "metadata": {
    "colab": {},
    "colab_type": "code",
    "id": "0OXdjT_uyykl",
    "outputId": "232b752d-f12f-4ed7-fbdd-6734294c2ff0"
   },
   "outputs": [
    {
     "name": "stdout",
     "output_type": "stream",
     "text": [
      "Episode 0, Average reward per episode: 15.00\n",
      "[[0.52634764 0.47365236]]\n",
      "Episode 100, Average reward per episode: 46.45\n",
      "[[0.9919084  0.00809162]]\n",
      "Episode 200, Average reward per episode: 82.35\n",
      "[[0.01836267 0.9816373 ]]\n",
      "Episode 300, Average reward per episode: 105.01\n",
      "[[1.000000e+00 8.861978e-12]]\n",
      "Episode 400, Average reward per episode: 97.84\n",
      "[[4.436048e-10 1.000000e+00]]\n",
      "Episode 500, Average reward per episode: 78.94\n",
      "[[1.0970825e-09 1.0000000e+00]]\n",
      "Episode 600, Average reward per episode: 65.18\n",
      "[[3.073839e-04 9.996927e-01]]\n",
      "Episode 700, Average reward per episode: 66.55\n",
      "[[9.999999e-01 7.442094e-08]]\n",
      "Episode 800, Average reward per episode: 65.33\n",
      "[[5.262675e-10 1.000000e+00]]\n",
      "Episode 900, Average reward per episode: 70.74\n",
      "[[1.7775509e-09 1.0000000e+00]]\n",
      "Episode 1000, Average reward per episode: 74.59\n",
      "[[3.1439915e-10 1.0000000e+00]]\n",
      "Episode 1100, Average reward per episode: 68.75\n",
      "[[7.0573833e-06 9.9999297e-01]]\n",
      "Episode 1200, Average reward per episode: 75.74\n",
      "[[1.8587718e-07 9.9999976e-01]]\n",
      "Episode 1300, Average reward per episode: 70.85\n",
      "[[1.0000000e+00 8.8226955e-20]]\n",
      "Episode 1400, Average reward per episode: 80.54\n",
      "[[5.005315e-15 1.000000e+00]]\n",
      "Episode 1500, Average reward per episode: 96.09\n",
      "[[1.3332258e-15 1.0000000e+00]]\n",
      "Episode 1600, Average reward per episode: 117.44\n",
      "[[7.911655e-14 1.000000e+00]]\n",
      "Episode 1700, Average reward per episode: 99.08\n",
      "[[1.2659217e-10 1.0000000e+00]]\n",
      "Episode 1800, Average reward per episode: 113.18\n",
      "[[1. 0.]]\n",
      "Episode 1900, Average reward per episode: 98.09\n",
      "[[3.2456933e-17 1.0000000e+00]]\n"
     ]
    }
   ],
   "source": [
    "policy_agent = PolicyGradientAgent(env, discount=0.99, eps=0.1, lr=0.001)\n",
    "rewards = policy_agent.train(2000)"
   ]
  },
  {
   "cell_type": "markdown",
   "metadata": {
    "colab_type": "text",
    "id": "RcxXxsAnyyk0"
   },
   "source": [
    " "
   ]
  }
 ],
 "metadata": {
  "colab": {
   "collapsed_sections": [
    "S38AW8Fwyyfe",
    "bb8ONQSVyyjf"
   ],
   "name": "trfl-tutorial.ipynb",
   "provenance": [],
   "version": "0.3.2"
  },
  "kernelspec": {
   "display_name": "Python 3",
   "language": "python",
   "name": "python3"
  },
  "language_info": {
   "codemirror_mode": {
    "name": "ipython",
    "version": 3
   },
   "file_extension": ".py",
   "mimetype": "text/x-python",
   "name": "python",
   "nbconvert_exporter": "python",
   "pygments_lexer": "ipython3",
   "version": "3.6.1"
  }
 },
 "nbformat": 4,
 "nbformat_minor": 2
}
